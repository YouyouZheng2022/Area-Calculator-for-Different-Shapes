{
 "cells": [
  {
   "cell_type": "markdown",
   "metadata": {},
   "source": [
    "## <center>Introduction to Python Programming – Mini Project</center>\n"
   ]
  },
  {
   "cell_type": "markdown",
   "metadata": {},
   "source": [
    "### Problem 1\n",
    "\n",
    "Write a program to calculate area of shapes. Your program should be capable of calculating the area of a square, rectangle, triangle and a circle. The user should be presented with options to select the shape. Based on which shape is chosen by the user, the program should ask for the appropriate input and print the resulting area on the screen.\n",
    "\n",
    "When the program is run, the screen should display something like this:\n",
    "\n",
    "**Which shape would you like to calculate the area for? Please enter the option number-**<br>\n",
    "**1. Square**<br>\n",
    "**2. Rectangle**<br>\n",
    "**3. Triangle**<br>\n",
    "**4. Circle**<br>\n",
    "**Enter Option: _**\n",
    "\n",
    "Say the user enters the option 1.\n",
    "\n",
    "**Please enter the length of a side: _**\n",
    "\n",
    "If the user enters a value of 5. The output should be:\n",
    "\n",
    "**The area of the square is 25**\n",
    "\n",
    "This program should indicate that the input is invalid if the user enters a character instead of a number as input. For instance if the user enters a value of ‘a’ instead of 5 in the previous example the program should prompt:\n",
    "\n",
    "**Invalid input, please enter a number: _**\n"
   ]
  },
  {
   "cell_type": "code",
   "execution_count": 15,
   "metadata": {},
   "outputs": [
    {
     "name": "stdout",
     "output_type": "stream",
     "text": [
      "Hello!!! Welcome to Shape Area Calculator.\n",
      "Below are the option numbers for the respective shapes.\n",
      "\n",
      "1.Square\t2.Rectangle\n",
      "3.Triangle\t4.Circle\n",
      "\n",
      "Enter an option number for the shapes:1\n",
      "\n",
      "You have selected the shape Rectangle.\n",
      "\n",
      "Enter length of side\n",
      "\n",
      "3\n",
      "Area of the  given square with  side  3.0 is 9.0\n",
      "\n",
      "\n",
      "Do you want to continue:y/n\n",
      "y\n",
      "Enter an option number for the shapes:5\n",
      "\n",
      "Invalid input, please enter a number in range [1 to 4].\n",
      "For Example:Just enter 1 if you want to calculate area of Square:\n"
     ]
    }
   ],
   "source": [
    "def sarea(s):\n",
    "    print(\"Area of the  given square with  side \",s,\"is\",s**2)\n",
    "def rarea(ln,bd):\n",
    "    print(\"Area of the given rectangle with length\",ln,\"and breadth\",bd,\"is\",ln*bd)\n",
    "def tarea(a,b,c):\n",
    "    import math\n",
    "    try:\n",
    "        p=(a+b+c)/2\n",
    "        ar=math.sqrt((p*(p-a)*(p-b)*(p-c)))\n",
    "        print(\"Area of triangle with sides \",a,b,c,\"are\",ar)\n",
    "    except ValueError:\n",
    "        print(\"Unable to compute area of triangle as the Avg. of the sides is lesser than any of the entered sides.\")\n",
    "        print(\"Please enter proportinate length of the sides\")\n",
    "def tarea1(base,height):\n",
    "    ar2=(1/2)*base*height\n",
    "    print(\"Area of triangle with given base\",base,\"and height\",height,\"is\",ar2)\n",
    "def carea(r):\n",
    "    print(\"Area of circle with given radius \",r,\"is\",(3.14*r*r))\n",
    "print(\"Hello!!! Welcome to Shape Area Calculator.\\nBelow are the option numbers for the respective shapes.\")        \n",
    "print(\"\\n1.Square\\t2.Rectangle\\n3.Triangle\\t4.Circle\\n\")    \n",
    "while(1):\n",
    "        op=(input(\"Enter an option number for the shapes:\"))\n",
    "        print()\n",
    "        if(int(op)==1):\n",
    "            print(\"You have selected the shape Rectangle.\\n\")\n",
    "            print(\"Enter length of side\\n\")\n",
    "            s=float(input())\n",
    "            sarea(s)\n",
    "        elif(int(op)==2):\n",
    "            print(\"Enter the length of rectangle:\")\n",
    "            ln=float(input())\n",
    "            print(\"Enter the breadth of rectangle:\")\n",
    "            bd=float(input())\n",
    "            rarea(ln,bd)\n",
    "        elif(int(op)==3):\n",
    "            print(\"\\n1.Enter side\\t2.Enter base and height\\n\")\n",
    "            op1=float(input())\n",
    "            if(op1==1):\n",
    "                print(\"Enter the sides of triangle\\n\")\n",
    "                a=float(input(\"Enter length of side 1:\"))\n",
    "                b=float(input(\"Enter length of side 2:\"))\n",
    "                c=float(input(\"Enter length of side 3:\"))\n",
    "                tarea(a,b,c)\n",
    "            elif(op1==2):\n",
    "                print(\"Enter base and height\\n\")\n",
    "                base=float(input())\n",
    "                height=float(input())\n",
    "                tarea1(base,height)\n",
    "        elif(int(op)==4):\n",
    "            print(\"Enter radius of circle\\n\")\n",
    "            r=float(input())\n",
    "            carea(r)\n",
    "        else:\n",
    "            print(\"Invalid input, please enter a number in range [1 to 4].\\nFor Example:Just enter 1 if you want to calculate area of Square:\")\n",
    "            break\n",
    "        print()\n",
    "        print()\n",
    "        print(\"Do you want to continue:y/n\")\n",
    "        te=input()\n",
    "        if(te=='y'):\n",
    "            pass\n",
    "        elif(te=='n'):\n",
    "            print()\n",
    "            print(\"Thank you for using the Area Shape Calculator\")\n",
    "            break\n",
    "        else:\n",
    "            print(\"I do not understand your command:\",te)\n",
    "            print(\"please enter y for Yes, n for No\")\n",
    "            print(\"Run the tool again!!!\")\n",
    "            break\n",
    "           \n",
    "\n",
    "    \n",
    "    \n",
    "   "
   ]
  },
  {
   "cell_type": "markdown",
   "metadata": {},
   "source": [
    "### Problem 2\n",
    "\n",
    "You have newly joined an organization abc.com. Write a python function that will take your 1st and last name as input and print the official mail as which has a format like firstname.lastname@abc.com\n",
    "\n",
    "When the program is run, the screen should display something like this:\n",
    "\n",
    "Enter your first name: nikhil\n",
    "\n",
    "Enter your last name: agrawal\n",
    "\n",
    "You official email id is nikhil.agrawal@abc.com \n",
    "\n",
    "**Hint:** use string concatenation."
   ]
  },
  {
   "cell_type": "code",
   "execution_count": 17,
   "metadata": {},
   "outputs": [
    {
     "name": "stdout",
     "output_type": "stream",
     "text": [
      "input your first name:a\n",
      "input your last name:b\n",
      "a.b@abc.com\n"
     ]
    }
   ],
   "source": [
    "import string\n",
    "from itertools import combinations\n",
    "fname=input(\"input your first name:\")\n",
    "lname=input(\"input your last name:\")\n",
    "print(fname+'.'+lname+\"@abc.com\")"
   ]
  },
  {
   "cell_type": "code",
   "execution_count": null,
   "metadata": {},
   "outputs": [],
   "source": []
  }
 ],
 "metadata": {
  "kernelspec": {
   "display_name": "Python 3 (ipykernel)",
   "language": "python",
   "name": "python3"
  },
  "language_info": {
   "codemirror_mode": {
    "name": "ipython",
    "version": 3
   },
   "file_extension": ".py",
   "mimetype": "text/x-python",
   "name": "python",
   "nbconvert_exporter": "python",
   "pygments_lexer": "ipython3",
   "version": "3.9.7"
  }
 },
 "nbformat": 4,
 "nbformat_minor": 2
}
